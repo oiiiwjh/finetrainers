{
 "cells": [
  {
   "cell_type": "markdown",
   "id": "76e9ee40",
   "metadata": {},
   "source": [
    "## wan transformer 3D model"
   ]
  },
  {
   "cell_type": "code",
   "execution_count": 1,
   "id": "71006678",
   "metadata": {},
   "outputs": [
    {
     "name": "stderr",
     "output_type": "stream",
     "text": [
      "/home/wjh/miniconda3/envs/finetrainer/lib/python3.12/site-packages/tqdm/auto.py:21: TqdmWarning: IProgress not found. Please update jupyter and ipywidgets. See https://ipywidgets.readthedocs.io/en/stable/user_install.html\n",
      "  from .autonotebook import tqdm as notebook_tqdm\n"
     ]
    }
   ],
   "source": [
    "import sys\n",
    "import traceback\n",
    "\n",
    "from finetrainers import BaseArgs, ControlTrainer, SFTTrainer, TrainingType, get_logger\n",
    "from finetrainers.config import _get_model_specifiction_cls\n",
    "from finetrainers.trainer.control_trainer.config import ControlFullRankConfig, ControlLowRankConfig\n",
    "from finetrainers.trainer.sft_trainer.config import SFTFullRankConfig, SFTLowRankConfig\n",
    "logger = get_logger()\n"
   ]
  },
  {
   "cell_type": "code",
   "execution_count": 25,
   "id": "91241532",
   "metadata": {},
   "outputs": [],
   "source": [
    "model_name = 'wan'\n",
    "training_type = 'lora'  # 'control-lora'\n",
    "# model: finetrainers/models/wan/control_specification.py:l36 WanControlModelSpecification\n",
    "# which include: LoRA+control\n",
    "# ---\n",
    "# 其实可能不需要用control branch\n",
    "# /home/wjh/projects/finetrainers/finetrainers/models/wan/base_specification.py WanModelSpecification\n",
    "model_specification_cls = _get_model_specifiction_cls(model_name, training_type)"
   ]
  },
  {
   "cell_type": "code",
   "execution_count": 26,
   "id": "c5fdf6ab",
   "metadata": {},
   "outputs": [],
   "source": [
    "# args\n",
    "args = BaseArgs()\n",
    "training_cls = ControlLowRankConfig # TrainingType.CONTROL_LORA\n",
    "args.register_args(training_cls())\n",
    "t2v = True # 1.3B T2V model\n",
    "if t2v:\n",
    "\targs.pretrained_model_name_or_path = 'Wan-AI/Wan2.1-T2V-1.3B-Diffusers' # T2V\n",
    "else: \n",
    "    # Wan2.1-I2V-14B-720P\n",
    "    # Wan2.1-T2V-14B-480P\n",
    "\targs.pretrained_model_name_or_path = 'Wan-AI/Wan2.1-1.3B-Diffusers'\n",
    "load_local = True # load local model\n",
    "if load_local:\n",
    "    # load local model\n",
    "\targs.pretrained_model_name_or_path = '/home/wjh/projects/finetrainers/finetrainers_ckpts/Wan2.1-T2V-1.3B-Diffusers'\n",
    "# ------- initialize args -------\n",
    "model_specification = model_specification_cls(\n",
    "\t\tpretrained_model_name_or_path=args.pretrained_model_name_or_path,\n",
    "\t\ttokenizer_id=args.tokenizer_id,\n",
    "\t\ttokenizer_2_id=args.tokenizer_2_id,\n",
    "\t\ttokenizer_3_id=args.tokenizer_3_id,\n",
    "\t\ttext_encoder_id=args.text_encoder_id,\n",
    "\t\ttext_encoder_2_id=args.text_encoder_2_id,\n",
    "\t\ttext_encoder_3_id=args.text_encoder_3_id,\n",
    "\t\ttransformer_id=args.transformer_id,\n",
    "\t\tvae_id=args.vae_id,\n",
    "\t\ttext_encoder_dtype=args.text_encoder_dtype,\n",
    "\t\ttext_encoder_2_dtype=args.text_encoder_2_dtype,\n",
    "\t\ttext_encoder_3_dtype=args.text_encoder_3_dtype,\n",
    "\t\ttransformer_dtype=args.transformer_dtype,\n",
    "\t\tvae_dtype=args.vae_dtype,\n",
    "\t\trevision=args.revision,\n",
    "\t\tcache_dir=args.cache_dir,\n",
    "\t)"
   ]
  },
  {
   "cell_type": "code",
   "execution_count": null,
   "id": "2f62ac79",
   "metadata": {},
   "outputs": [
    {
     "name": "stderr",
     "output_type": "stream",
     "text": [
      "Loading checkpoint shards: 100%|██████████| 2/2 [01:00<00:00, 30.03s/it]\n"
     ]
    }
   ],
   "source": [
    "from diffusers import WanTransformer3DModel\n",
    "# load model\n",
    "diffusion_components = model_specification.load_diffusion_models()\n",
    "transformer = diffusion_components['transformer'].to('cuda:0')\n",
    "schedule = diffusion_components['scheduler']\n",
    "transformer.state_dict\n"
   ]
  },
  {
   "cell_type": "markdown",
   "id": "953669c0",
   "metadata": {},
   "source": [
    "## trainer for finetuning the model"
   ]
  },
  {
   "cell_type": "code",
   "execution_count": null,
   "id": "8e793984",
   "metadata": {},
   "outputs": [],
   "source": [
    "args = BaseArgs()\n",
    "\n",
    "argv = [y.strip() for x in sys.argv for y in x.split()]\n",
    "training_type_index = argv.index(\"--training_type\")\n",
    "if training_type_index == -1:\n",
    "\traise ValueError(\"Training type not provided in command line arguments.\")\n",
    "\n",
    "training_type = argv[training_type_index + 1]\n",
    "# training_cls = None\n",
    "# if training_type == TrainingType.LORA:\n",
    "# \ttraining_cls = SFTLowRankConfig\n",
    "# elif training_type == TrainingType.FULL_FINETUNE:\n",
    "# \ttraining_cls = SFTFullRankConfig\n",
    "# elif training_type == TrainingType.CONTROL_LORA:\n",
    "# \ttraining_cls = ControlLowRankConfig\n",
    "# elif training_type == TrainingType.CONTROL_FULL_FINETUNE:\n",
    "# \ttraining_cls = ControlFullRankConfig\n",
    "# else:\n",
    "# \traise ValueError(f\"Training type {training_type} not supported.\")\n",
    "training_cls = SFTLowRankConfig\n",
    "args.register_args(training_cls())\n",
    "args = args.parse_args()\n",
    "# [wjh wan2.1] load model specification class based on model name and training type [control-lora]\n",
    "model_specification_cls = _get_model_specifiction_cls(args.model_name, args.training_type)\n"
   ]
  },
  {
   "cell_type": "code",
   "execution_count": null,
   "id": "5c28e0c0",
   "metadata": {},
   "outputs": [
    {
     "name": "stderr",
     "output_type": "stream",
     "text": [
      "/home/wjh/miniconda3/envs/finetrainer/lib/python3.12/site-packages/tqdm/auto.py:21: TqdmWarning: IProgress not found. Please update jupyter and ipywidgets. See https://ipywidgets.readthedocs.io/en/stable/user_install.html\n",
      "  from .autonotebook import tqdm as notebook_tqdm\n"
     ]
    },
    {
     "ename": "ModuleNotFoundError",
     "evalue": "No module named 'finetrainers.utils.video_utils'",
     "output_type": "error",
     "traceback": [
      "\u001b[31m---------------------------------------------------------------------------\u001b[39m",
      "\u001b[31mModuleNotFoundError\u001b[39m                       Traceback (most recent call last)",
      "\u001b[36mCell\u001b[39m\u001b[36m \u001b[39m\u001b[32mIn[1]\u001b[39m\u001b[32m, line 3\u001b[39m\n\u001b[32m      1\u001b[39m path = \u001b[33m'\u001b[39m\u001b[33m/home/wjh/projects/finetrainers/datasets/crush-smol/videos/1gGQy4nxyUo-Scene-016.mp4\u001b[39m\u001b[33m'\u001b[39m\n\u001b[32m      2\u001b[39m \u001b[38;5;28;01mimport\u001b[39;00m\u001b[38;5;250m \u001b[39m\u001b[34;01mav\u001b[39;00m\n\u001b[32m----> \u001b[39m\u001b[32m3\u001b[39m \u001b[38;5;28;01mfrom\u001b[39;00m\u001b[38;5;250m \u001b[39m\u001b[34;01mfinetrainers\u001b[39;00m\u001b[34;01m.\u001b[39;00m\u001b[34;01mutils\u001b[39;00m\u001b[34;01m.\u001b[39;00m\u001b[34;01mvideo_utils\u001b[39;00m\u001b[38;5;250m \u001b[39m\u001b[38;5;28;01mimport\u001b[39;00m load_video\n\u001b[32m      4\u001b[39m video = load_video(path, size=\u001b[32m512\u001b[39m, fps=\u001b[32m24\u001b[39m, num_frames=\u001b[32m16\u001b[39m, av_format=\u001b[33m'\u001b[39m\u001b[33mmp4\u001b[39m\u001b[33m'\u001b[39m, av_container=\u001b[33m'\u001b[39m\u001b[33mh264\u001b[39m\u001b[33m'\u001b[39m)\n",
      "\u001b[31mModuleNotFoundError\u001b[39m: No module named 'finetrainers.utils.video_utils'"
     ]
    }
   ],
   "source": [
    "path = '/home/wjh/projects/finetrainers/datasets/crush-smol/videos/1gGQy4nxyUo-Scene-016.mp4'\n",
    "import av\n",
    "av.cdcd ExceptionGroup"
   ]
  },
  {
   "cell_type": "code",
   "execution_count": null,
   "id": "2197429e",
   "metadata": {},
   "outputs": [],
   "source": [
    "from diffusers import WanTransformer3DModel"
   ]
  }
 ],
 "metadata": {
  "kernelspec": {
   "display_name": "finetrainer",
   "language": "python",
   "name": "python3"
  },
  "language_info": {
   "codemirror_mode": {
    "name": "ipython",
    "version": 3
   },
   "file_extension": ".py",
   "mimetype": "text/x-python",
   "name": "python",
   "nbconvert_exporter": "python",
   "pygments_lexer": "ipython3",
   "version": "3.12.11"
  }
 },
 "nbformat": 4,
 "nbformat_minor": 5
}
